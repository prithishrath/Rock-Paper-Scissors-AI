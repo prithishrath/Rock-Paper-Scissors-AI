{
 "cells": [
  {
   "cell_type": "code",
   "execution_count": 1,
   "metadata": {},
   "outputs": [
    {
     "name": "stderr",
     "output_type": "stream",
     "text": [
      "Using TensorFlow backend.\n"
     ]
    }
   ],
   "source": [
    "import cv2\n",
    "import numpy as np\n",
    "from keras_squeezenet import SqueezeNet\n",
    "from keras.optimizers import Adam\n",
    "from keras.utils import np_utils\n",
    "from keras.layers import Activation, Dropout, Convolution2D, GlobalAveragePooling2D\n",
    "from keras.models import Sequential\n",
    "import tensorflow as tf\n",
    "import os"
   ]
  },
  {
   "cell_type": "code",
   "execution_count": 2,
   "metadata": {},
   "outputs": [],
   "source": [
    "IMG_SAVE_PATH = 'image_data'\n",
    "\n",
    "CLASS_MAP = {\n",
    "    \"rock\": 0,\n",
    "    \"paper\": 1,\n",
    "    \"scissors\": 2,\n",
    "    \"none\": 3\n",
    "}\n"
   ]
  },
  {
   "cell_type": "code",
   "execution_count": 3,
   "metadata": {},
   "outputs": [],
   "source": [
    "NUM_CLASSES = len(CLASS_MAP)"
   ]
  },
  {
   "cell_type": "code",
   "execution_count": 4,
   "metadata": {},
   "outputs": [],
   "source": [
    "def mapper(val):\n",
    "    return CLASS_MAP[val]"
   ]
  },
  {
   "cell_type": "code",
   "execution_count": 5,
   "metadata": {},
   "outputs": [],
   "source": [
    "def get_model():\n",
    "    model = Sequential([\n",
    "        SqueezeNet(input_shape=(227, 227, 3), include_top=False),\n",
    "        Dropout(0.5),\n",
    "        Convolution2D(NUM_CLASSES, (1, 1), padding='valid'),\n",
    "        Activation('relu'),\n",
    "        GlobalAveragePooling2D(),\n",
    "        Activation('softmax')\n",
    "    ])\n",
    "    return model"
   ]
  },
  {
   "cell_type": "code",
   "execution_count": null,
   "metadata": {},
   "outputs": [],
   "source": [
    "dataset = []\n",
    "for directory in os.listdir(IMG_SAVE_PATH):\n",
    "    path = os.path.join(IMG_SAVE_PATH, directory)\n",
    "    if not os.path.isdir(path):\n",
    "        continue\n",
    "    for item in os.listdir(path):\n",
    "        # to make sure no hidden files get in our way\n",
    "        if item.startswith(\".\"):\n",
    "            continue\n",
    "        img = cv2.imread(os.path.join(path, item))\n",
    "        img = cv2.cvtColor(img, cv2.COLOR_BGR2RGB)\n",
    "        img = cv2.resize(img, (227, 227))\n",
    "        dataset.append([img, directory])"
   ]
  },
  {
   "cell_type": "code",
   "execution_count": 7,
   "metadata": {},
   "outputs": [],
   "source": [
    "data, labels = zip(*dataset)\n",
    "labels = list(map(mapper, labels))"
   ]
  },
  {
   "cell_type": "code",
   "execution_count": 8,
   "metadata": {},
   "outputs": [],
   "source": [
    "labels = np_utils.to_categorical(labels)"
   ]
  },
  {
   "cell_type": "code",
   "execution_count": 9,
   "metadata": {},
   "outputs": [
    {
     "name": "stdout",
     "output_type": "stream",
     "text": [
      "WARNING:tensorflow:From C:\\Users\\PRITHISH\\Anaconda3\\envs\\rock-paper-scissors\\lib\\site-packages\\tensorflow\\python\\framework\\op_def_library.py:263: colocate_with (from tensorflow.python.framework.ops) is deprecated and will be removed in a future version.\n",
      "Instructions for updating:\n",
      "Colocations handled automatically by placer.\n",
      "WARNING:tensorflow:From C:\\Users\\PRITHISH\\Anaconda3\\envs\\rock-paper-scissors\\lib\\site-packages\\keras\\backend\\tensorflow_backend.py:3013: calling dropout (from tensorflow.python.ops.nn_ops) with keep_prob is deprecated and will be removed in a future version.\n",
      "Instructions for updating:\n",
      "Please use `rate` instead of `keep_prob`. Rate should be set to `rate = 1 - keep_prob`.\n",
      "WARNING:tensorflow:From C:\\Users\\PRITHISH\\Anaconda3\\envs\\rock-paper-scissors\\lib\\site-packages\\keras\\backend\\tensorflow_backend.py:2880: calling reduce_sum_v1 (from tensorflow.python.ops.math_ops) with keep_dims is deprecated and will be removed in a future version.\n",
      "Instructions for updating:\n",
      "keep_dims is deprecated, use keepdims instead\n"
     ]
    }
   ],
   "source": [
    "model = get_model()\n",
    "model.compile(\n",
    "    optimizer=Adam(lr=0.0001),\n",
    "    loss='categorical_crossentropy',\n",
    "    metrics=['accuracy']\n",
    ")"
   ]
  },
  {
   "cell_type": "code",
   "execution_count": 10,
   "metadata": {},
   "outputs": [
    {
     "name": "stdout",
     "output_type": "stream",
     "text": [
      "WARNING:tensorflow:From C:\\Users\\PRITHISH\\Anaconda3\\envs\\rock-paper-scissors\\lib\\site-packages\\tensorflow\\python\\ops\\math_ops.py:3066: to_int32 (from tensorflow.python.ops.math_ops) is deprecated and will be removed in a future version.\n",
      "Instructions for updating:\n",
      "Use tf.cast instead.\n",
      "Epoch 1/10\n",
      "12000/12000 [==============================] - 605s 50ms/step - loss: 0.1049 - acc: 0.9609\n",
      "Epoch 2/10\n",
      "12000/12000 [==============================] - 610s 51ms/step - loss: 0.0035 - acc: 0.9989\n",
      "Epoch 3/10\n",
      "12000/12000 [==============================] - 605s 50ms/step - loss: 7.7866e-05 - acc: 1.0000\n",
      "Epoch 4/10\n",
      "12000/12000 [==============================] - 585s 49ms/step - loss: 3.7209e-05 - acc: 1.0000\n",
      "Epoch 5/10\n",
      "12000/12000 [==============================] - 601s 50ms/step - loss: 1.0659e-05 - acc: 1.0000\n",
      "Epoch 6/10\n",
      "12000/12000 [==============================] - 556s 46ms/step - loss: 2.3616e-05 - acc: 1.0000\n",
      "Epoch 7/10\n",
      "12000/12000 [==============================] - 518s 43ms/step - loss: 0.0319 - acc: 0.9917\n",
      "Epoch 8/10\n",
      "12000/12000 [==============================] - 559s 47ms/step - loss: 0.0070 - acc: 0.9978\n",
      "Epoch 9/10\n",
      "12000/12000 [==============================] - 567s 47ms/step - loss: 3.2080e-04 - acc: 1.0000\n",
      "Epoch 10/10\n",
      "12000/12000 [==============================] - 559s 47ms/step - loss: 0.0041 - acc: 0.9989\n"
     ]
    },
    {
     "data": {
      "text/plain": [
       "<keras.callbacks.History at 0x1b44a04e848>"
      ]
     },
     "execution_count": 10,
     "metadata": {},
     "output_type": "execute_result"
    }
   ],
   "source": [
    "model.fit(np.array(data), np.array(labels), epochs=10)"
   ]
  },
  {
   "cell_type": "code",
   "execution_count": 11,
   "metadata": {},
   "outputs": [],
   "source": [
    "model.save(\"rock-paper-scissors-model.h5\")"
   ]
  },
  {
   "cell_type": "code",
   "execution_count": null,
   "metadata": {},
   "outputs": [],
   "source": []
  }
 ],
 "metadata": {
  "kernelspec": {
   "display_name": "rock-paper-scissors",
   "language": "python",
   "name": "rock-paper-scissors"
  },
  "language_info": {
   "codemirror_mode": {
    "name": "ipython",
    "version": 3
   },
   "file_extension": ".py",
   "mimetype": "text/x-python",
   "name": "python",
   "nbconvert_exporter": "python",
   "pygments_lexer": "ipython3",
   "version": "3.7.10"
  }
 },
 "nbformat": 4,
 "nbformat_minor": 2
}
